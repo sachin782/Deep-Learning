{
 "cells": [
  {
   "cell_type": "code",
   "execution_count": 1,
   "metadata": {
    "colab": {
     "base_uri": "https://localhost:8080/",
     "height": 50
    },
    "id": "V-TKno5F5v4V",
    "outputId": "18f8cc7c-2e8f-4534-bdb0-ec6a12d08b90"
   },
   "outputs": [
    {
     "name": "stdout",
     "output_type": "stream",
     "text": [
      "RMSE = 0.3872849941150143\n",
      "MAE = 0.251\n"
     ]
    }
   ],
   "source": [
    "import numpy as np\n",
    "y_hat = np.array([0.000,0.166,0.333]) \n",
    "y_true = np.array([0.000,0.254,0.998])\n",
    "def rmse(predictions,targets):\n",
    "    differences = predictions - targets\n",
    "    differences_squared = differences ** 2\n",
    "    mean_of_differences_squared = differences_squared.mean()\n",
    "    rmse_val = np.sqrt(mean_of_differences_squared)\n",
    "    return rmse_val\n",
    "def mae(predictions,targets):\n",
    "    differences = predictions - targets\n",
    "    absolute_differences = np.absolute(differences)\n",
    "    mean_of_absolute_differences = absolute_differences.mean()\n",
    "    return mean_of_absolute_differences\n",
    "rmse_val = rmse(y_hat,y_true)\n",
    "mae_val=mae(y_hat,y_true)\n",
    "print(\"RMSE =\",rmse_val)\n",
    "print(\"MAE =\",mae_val)"
   ]
  },
  {
   "cell_type": "code",
   "execution_count": 2,
   "metadata": {
    "id": "CB-a40mY6wq-"
   },
   "outputs": [
    {
     "data": {
      "text/plain": [
       "34.538776394910684"
      ]
     },
     "execution_count": 2,
     "metadata": {},
     "output_type": "execute_result"
    }
   ],
   "source": [
    "import numpy as np\n",
    "predictions = np.array([[0.25,0.25,0.25,0.25],[0.1,0.1,0.1,0.96]])\n",
    "targets = np.array([[0,0,0,1],[0,0,0,1]])\n",
    "def cross_entropy(predictions,targets,epsilon = 1e-10):\n",
    "    predictions = np.clip(predictions,epsilon,1. - epsilon) \n",
    "    N = predictions.shape[0]\n",
    "    ce_loss = -np.sum(targets * np.log(1e-15,predictions))\n",
    "    ce_loss = ce_loss/len(targets)\n",
    "    return ce_loss\n",
    "cross_entropy(predictions,targets,1e-10)"
   ]
  }
 ],
 "metadata": {
  "colab": {
   "collapsed_sections": [],
   "name": "4.ipynb",
   "provenance": []
  },
  "kernelspec": {
   "display_name": "Python 3",
   "language": "python",
   "name": "python3"
  },
  "language_info": {
   "codemirror_mode": {
    "name": "ipython",
    "version": 3
   },
   "file_extension": ".py",
   "mimetype": "text/x-python",
   "name": "python",
   "nbconvert_exporter": "python",
   "pygments_lexer": "ipython3",
   "version": "3.7.3"
  }
 },
 "nbformat": 4,
 "nbformat_minor": 1
}
