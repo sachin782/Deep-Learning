{
 "cells": [
  {
   "cell_type": "code",
   "execution_count": 1,
   "metadata": {
    "colab": {
     "base_uri": "https://localhost:8080/",
     "height": 67
    },
    "id": "Acm8ivh7NJDq",
    "outputId": "5fc11bd6-82d6-417a-817c-5ca64143c063"
   },
   "outputs": [
    {
     "data": {
      "text/plain": [
       "array([[ 2.66666667,  0.66666667, -1.33333333],\n",
       "       [ 0.66666667,  4.66666667,  1.66666667],\n",
       "       [-1.33333333,  1.66666667,  1.55555556]])"
      ]
     },
     "execution_count": 1,
     "metadata": {},
     "output_type": "execute_result"
    }
   ],
   "source": [
    "import numpy as np\n",
    "a=np.array([[1,3,5],[5,4,3],[3,8,6]])\n",
    "np.cov(a,rowvar=False,bias=True)"
   ]
  }
 ],
 "metadata": {
  "accelerator": "GPU",
  "colab": {
   "collapsed_sections": [],
   "name": "1.ipynb",
   "provenance": []
  },
  "kernelspec": {
   "display_name": "Python 3",
   "language": "python",
   "name": "python3"
  },
  "language_info": {
   "codemirror_mode": {
    "name": "ipython",
    "version": 3
   },
   "file_extension": ".py",
   "mimetype": "text/x-python",
   "name": "python",
   "nbconvert_exporter": "python",
   "pygments_lexer": "ipython3",
   "version": "3.7.3"
  }
 },
 "nbformat": 4,
 "nbformat_minor": 1
}
