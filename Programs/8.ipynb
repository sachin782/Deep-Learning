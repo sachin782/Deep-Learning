{
 "cells": [
  {
   "cell_type": "code",
   "execution_count": 1,
   "metadata": {
    "id": "t7MuKnlncuoV"
   },
   "outputs": [
    {
     "name": "stderr",
     "output_type": "stream",
     "text": [
      "Using TensorFlow backend.\n"
     ]
    }
   ],
   "source": [
    "import pandas as pd\n",
    "from sklearn import preprocessing\n",
    "from sklearn.model_selection import train_test_split\n",
    "from keras.models import Sequential\n",
    "from keras.layers import Dense\n",
    "from keras.layers import Dropout\n",
    "from keras import regularizers\n",
    "import matplotlib.pyplot as plt"
   ]
  },
  {
   "cell_type": "code",
   "execution_count": 2,
   "metadata": {
    "colab": {
     "base_uri": "https://localhost:8080/",
     "height": 159
    },
    "id": "t9s6WDnRc4ig",
    "outputId": "270c1849-de5c-454e-dcbf-37ba4e6b77e9"
   },
   "outputs": [
    {
     "name": "stdout",
     "output_type": "stream",
     "text": [
      "   LotArea  OverallQual  OverallCond  TotalBsmtSF  FullBath  HalfBath  \\\n",
      "0     8450            7            5          856         2         1   \n",
      "1     9600            6            8         1262         2         0   \n",
      "2    11250            7            5          920         2         1   \n",
      "3     9550            7            5          756         1         0   \n",
      "4    14260            8            5         1145         2         1   \n",
      "\n",
      "   BedroomAbvGr  TotRmsAbvGrd  Fireplaces  GarageArea  AboveMedianPrice  \n",
      "0             3             8           0         548                 1  \n",
      "1             3             6           1         460                 1  \n",
      "2             3             6           1         608                 1  \n",
      "3             3             7           1         642                 0  \n",
      "4             4             9           1         836                 1  \n"
     ]
    }
   ],
   "source": [
    "df = pd.read_csv('housepricedata.csv')\n",
    "print(df.head(5))"
   ]
  },
  {
   "cell_type": "code",
   "execution_count": 3,
   "metadata": {
    "id": "x76ye7yWgF5G"
   },
   "outputs": [],
   "source": [
    "dataset = df.values\n",
    "X = dataset[:,0:10]\n",
    "Y = dataset[:,10]"
   ]
  },
  {
   "cell_type": "code",
   "execution_count": 4,
   "metadata": {
    "colab": {
     "base_uri": "https://localhost:8080/",
     "height": 141
    },
    "id": "kf6BeV7EhOXh",
    "outputId": "81a4cc2e-c06f-4b84-e57b-ff4f718dc134"
   },
   "outputs": [
    {
     "name": "stdout",
     "output_type": "stream",
     "text": [
      "[[0.0334198  0.66666667 0.5        ... 0.5        0.         0.3864598 ]\n",
      " [0.03879502 0.55555556 0.875      ... 0.33333333 0.33333333 0.32440056]\n",
      " [0.04650728 0.66666667 0.5        ... 0.33333333 0.33333333 0.42877292]\n",
      " ...\n",
      " [0.03618687 0.66666667 1.         ... 0.58333333 0.66666667 0.17771509]\n",
      " [0.03934189 0.44444444 0.625      ... 0.25       0.         0.16925247]\n",
      " [0.04037019 0.44444444 0.625      ... 0.33333333 0.         0.19464034]]\n"
     ]
    }
   ],
   "source": [
    "min_max_scaler = preprocessing.MinMaxScaler() \n",
    "X_scale = min_max_scaler.fit_transform(X)\n",
    "print(X_scale)"
   ]
  },
  {
   "cell_type": "code",
   "execution_count": 5,
   "metadata": {
    "colab": {
     "base_uri": "https://localhost:8080/",
     "height": 35
    },
    "id": "CjGx2edkgyJO",
    "outputId": "737f53ee-5e56-40e5-e8c2-dd3b132a7ab9"
   },
   "outputs": [
    {
     "name": "stdout",
     "output_type": "stream",
     "text": [
      "(1022, 10) (219, 10) (219, 10) (1022,) (219,) (219,)\n"
     ]
    }
   ],
   "source": [
    "X_train, X_val_test, Y_train, Y_val_test = train_test_split(X_scale, Y, test_size = 0.3)\n",
    "X_val, X_test, Y_val, Y_test = train_test_split(X_val_test, Y_val_test, test_size = 0.5)\n",
    "print(X_train.shape, X_val.shape, X_test.shape,Y_train.shape,Y_val.shape,Y_test.shape)"
   ]
  },
  {
   "cell_type": "code",
   "execution_count": 6,
   "metadata": {
    "colab": {
     "base_uri": "https://localhost:8080/",
     "height": 1000
    },
    "id": "5J_pq1NnjEkL",
    "outputId": "6c692bdd-e83b-40c2-d571-bfb22fab49f2"
   },
   "outputs": [
    {
     "name": "stdout",
     "output_type": "stream",
     "text": [
      "WARNING:tensorflow:From C:\\Users\\Sachin\\Anaconda3\\lib\\site-packages\\tensorflow\\python\\ops\\nn_impl.py:180: add_dispatch_support.<locals>.wrapper (from tensorflow.python.ops.array_ops) is deprecated and will be removed in a future version.\n",
      "Instructions for updating:\n",
      "Use tf.where in 2.0, which has the same broadcast rule as np.where\n",
      "WARNING:tensorflow:From C:\\Users\\Sachin\\Anaconda3\\lib\\site-packages\\keras\\backend\\tensorflow_backend.py:422: The name tf.global_variables is deprecated. Please use tf.compat.v1.global_variables instead.\n",
      "\n",
      "Train on 1022 samples, validate on 219 samples\n",
      "Epoch 1/100\n",
      "1022/1022 [==============================] - 0s 222us/step - loss: 0.6801 - accuracy: 0.6840 - val_loss: 0.6641 - val_accuracy: 0.7808\n",
      "Epoch 2/100\n",
      "1022/1022 [==============================] - 0s 52us/step - loss: 0.6663 - accuracy: 0.6350 - val_loss: 0.6543 - val_accuracy: 0.7306\n",
      "Epoch 3/100\n",
      "1022/1022 [==============================] - 0s 56us/step - loss: 0.6586 - accuracy: 0.6438 - val_loss: 0.6467 - val_accuracy: 0.6849\n",
      "Epoch 4/100\n",
      "1022/1022 [==============================] - 0s 47us/step - loss: 0.6517 - accuracy: 0.6321 - val_loss: 0.6393 - val_accuracy: 0.7260\n",
      "Epoch 5/100\n",
      "1022/1022 [==============================] - 0s 60us/step - loss: 0.6451 - accuracy: 0.6771 - val_loss: 0.6322 - val_accuracy: 0.7352\n",
      "Epoch 6/100\n",
      "1022/1022 [==============================] - 0s 47us/step - loss: 0.6386 - accuracy: 0.6918 - val_loss: 0.6253 - val_accuracy: 0.7580\n",
      "Epoch 7/100\n",
      "1022/1022 [==============================] - 0s 43us/step - loss: 0.6322 - accuracy: 0.7133 - val_loss: 0.6184 - val_accuracy: 0.7763\n",
      "Epoch 8/100\n",
      "1022/1022 [==============================] - 0s 50us/step - loss: 0.6260 - accuracy: 0.7505 - val_loss: 0.6113 - val_accuracy: 0.7854\n",
      "Epoch 9/100\n",
      "1022/1022 [==============================] - 0s 53us/step - loss: 0.6194 - accuracy: 0.7632 - val_loss: 0.6041 - val_accuracy: 0.7991\n",
      "Epoch 10/100\n",
      "1022/1022 [==============================] - 0s 63us/step - loss: 0.6127 - accuracy: 0.7750 - val_loss: 0.5968 - val_accuracy: 0.8037\n",
      "Epoch 11/100\n",
      "1022/1022 [==============================] - 0s 58us/step - loss: 0.6058 - accuracy: 0.7867 - val_loss: 0.5893 - val_accuracy: 0.8082\n",
      "Epoch 12/100\n",
      "1022/1022 [==============================] - 0s 52us/step - loss: 0.5990 - accuracy: 0.7857 - val_loss: 0.5816 - val_accuracy: 0.8219\n",
      "Epoch 13/100\n",
      "1022/1022 [==============================] - 0s 75us/step - loss: 0.5919 - accuracy: 0.7965 - val_loss: 0.5738 - val_accuracy: 0.8265\n",
      "Epoch 14/100\n",
      "1022/1022 [==============================] - 0s 64us/step - loss: 0.5847 - accuracy: 0.7984 - val_loss: 0.5658 - val_accuracy: 0.8356\n",
      "Epoch 15/100\n",
      "1022/1022 [==============================] - 0s 86us/step - loss: 0.5774 - accuracy: 0.8033 - val_loss: 0.5578 - val_accuracy: 0.8356\n",
      "Epoch 16/100\n",
      "1022/1022 [==============================] - 0s 52us/step - loss: 0.5699 - accuracy: 0.8023 - val_loss: 0.5496 - val_accuracy: 0.8539\n",
      "Epoch 17/100\n",
      "1022/1022 [==============================] - 0s 67us/step - loss: 0.5624 - accuracy: 0.8043 - val_loss: 0.5414 - val_accuracy: 0.8539\n",
      "Epoch 18/100\n",
      "1022/1022 [==============================] - 0s 77us/step - loss: 0.5548 - accuracy: 0.8131 - val_loss: 0.5330 - val_accuracy: 0.8630\n",
      "Epoch 19/100\n",
      "1022/1022 [==============================] - 0s 43us/step - loss: 0.5473 - accuracy: 0.8112 - val_loss: 0.5247 - val_accuracy: 0.8630\n",
      "Epoch 20/100\n",
      "1022/1022 [==============================] - 0s 59us/step - loss: 0.5396 - accuracy: 0.8190 - val_loss: 0.5162 - val_accuracy: 0.8676\n",
      "Epoch 21/100\n",
      "1022/1022 [==============================] - 0s 68us/step - loss: 0.5320 - accuracy: 0.8229 - val_loss: 0.5078 - val_accuracy: 0.8676\n",
      "Epoch 22/100\n",
      "1022/1022 [==============================] - 0s 58us/step - loss: 0.5241 - accuracy: 0.8268 - val_loss: 0.4994 - val_accuracy: 0.8676\n",
      "Epoch 23/100\n",
      "1022/1022 [==============================] - 0s 49us/step - loss: 0.5166 - accuracy: 0.8288 - val_loss: 0.4910 - val_accuracy: 0.8767\n",
      "Epoch 24/100\n",
      "1022/1022 [==============================] - 0s 80us/step - loss: 0.5089 - accuracy: 0.8327 - val_loss: 0.4826 - val_accuracy: 0.8767\n",
      "Epoch 25/100\n",
      "1022/1022 [==============================] - 0s 59us/step - loss: 0.5014 - accuracy: 0.8317 - val_loss: 0.4744 - val_accuracy: 0.8721\n",
      "Epoch 26/100\n",
      "1022/1022 [==============================] - 0s 51us/step - loss: 0.4937 - accuracy: 0.8376 - val_loss: 0.4660 - val_accuracy: 0.8767\n",
      "Epoch 27/100\n",
      "1022/1022 [==============================] - 0s 46us/step - loss: 0.4862 - accuracy: 0.8366 - val_loss: 0.4578 - val_accuracy: 0.8721\n",
      "Epoch 28/100\n",
      "1022/1022 [==============================] - 0s 70us/step - loss: 0.4790 - accuracy: 0.8425 - val_loss: 0.4497 - val_accuracy: 0.8721\n",
      "Epoch 29/100\n",
      "1022/1022 [==============================] - 0s 50us/step - loss: 0.4715 - accuracy: 0.8425 - val_loss: 0.4418 - val_accuracy: 0.8721\n",
      "Epoch 30/100\n",
      "1022/1022 [==============================] - 0s 50us/step - loss: 0.4644 - accuracy: 0.8474 - val_loss: 0.4341 - val_accuracy: 0.8721\n",
      "Epoch 31/100\n",
      "1022/1022 [==============================] - 0s 61us/step - loss: 0.4575 - accuracy: 0.8474 - val_loss: 0.4263 - val_accuracy: 0.8767\n",
      "Epoch 32/100\n",
      "1022/1022 [==============================] - 0s 50us/step - loss: 0.4506 - accuracy: 0.8513 - val_loss: 0.4188 - val_accuracy: 0.8813\n",
      "Epoch 33/100\n",
      "1022/1022 [==============================] - 0s 57us/step - loss: 0.4439 - accuracy: 0.8532 - val_loss: 0.4116 - val_accuracy: 0.8813\n",
      "Epoch 34/100\n",
      "1022/1022 [==============================] - 0s 53us/step - loss: 0.4374 - accuracy: 0.8483 - val_loss: 0.4044 - val_accuracy: 0.8813\n",
      "Epoch 35/100\n",
      "1022/1022 [==============================] - 0s 46us/step - loss: 0.4312 - accuracy: 0.8542 - val_loss: 0.3974 - val_accuracy: 0.8813\n",
      "Epoch 36/100\n",
      "1022/1022 [==============================] - 0s 43us/step - loss: 0.4249 - accuracy: 0.8562 - val_loss: 0.3906 - val_accuracy: 0.8813\n",
      "Epoch 37/100\n",
      "1022/1022 [==============================] - 0s 44us/step - loss: 0.4192 - accuracy: 0.8591 - val_loss: 0.3841 - val_accuracy: 0.8813\n",
      "Epoch 38/100\n",
      "1022/1022 [==============================] - 0s 48us/step - loss: 0.4133 - accuracy: 0.8581 - val_loss: 0.3777 - val_accuracy: 0.8904\n",
      "Epoch 39/100\n",
      "1022/1022 [==============================] - 0s 41us/step - loss: 0.4077 - accuracy: 0.8611 - val_loss: 0.3717 - val_accuracy: 0.8904\n",
      "Epoch 40/100\n",
      "1022/1022 [==============================] - 0s 37us/step - loss: 0.4023 - accuracy: 0.8620 - val_loss: 0.3658 - val_accuracy: 0.8904\n",
      "Epoch 41/100\n",
      "1022/1022 [==============================] - 0s 46us/step - loss: 0.3970 - accuracy: 0.8640 - val_loss: 0.3606 - val_accuracy: 0.8950\n",
      "Epoch 42/100\n",
      "1022/1022 [==============================] - 0s 47us/step - loss: 0.3924 - accuracy: 0.8620 - val_loss: 0.3547 - val_accuracy: 0.8904\n",
      "Epoch 43/100\n",
      "1022/1022 [==============================] - 0s 49us/step - loss: 0.3877 - accuracy: 0.8591 - val_loss: 0.3497 - val_accuracy: 0.8950\n",
      "Epoch 44/100\n",
      "1022/1022 [==============================] - 0s 45us/step - loss: 0.3830 - accuracy: 0.8689 - val_loss: 0.3446 - val_accuracy: 0.8950\n",
      "Epoch 45/100\n",
      "1022/1022 [==============================] - 0s 48us/step - loss: 0.3788 - accuracy: 0.8630 - val_loss: 0.3397 - val_accuracy: 0.8904\n",
      "Epoch 46/100\n",
      "1022/1022 [==============================] - 0s 47us/step - loss: 0.3748 - accuracy: 0.8630 - val_loss: 0.3350 - val_accuracy: 0.8904\n",
      "Epoch 47/100\n",
      "1022/1022 [==============================] - 0s 47us/step - loss: 0.3710 - accuracy: 0.8659 - val_loss: 0.3307 - val_accuracy: 0.8904\n",
      "Epoch 48/100\n",
      "1022/1022 [==============================] - 0s 47us/step - loss: 0.3669 - accuracy: 0.8620 - val_loss: 0.3266 - val_accuracy: 0.8904\n",
      "Epoch 49/100\n",
      "1022/1022 [==============================] - 0s 49us/step - loss: 0.3636 - accuracy: 0.8640 - val_loss: 0.3227 - val_accuracy: 0.8904\n",
      "Epoch 50/100\n",
      "1022/1022 [==============================] - 0s 43us/step - loss: 0.3604 - accuracy: 0.8620 - val_loss: 0.3190 - val_accuracy: 0.8904\n",
      "Epoch 51/100\n",
      "1022/1022 [==============================] - 0s 47us/step - loss: 0.3568 - accuracy: 0.8659 - val_loss: 0.3151 - val_accuracy: 0.8904\n",
      "Epoch 52/100\n",
      "1022/1022 [==============================] - 0s 43us/step - loss: 0.3544 - accuracy: 0.8611 - val_loss: 0.3117 - val_accuracy: 0.8904\n"
     ]
    },
    {
     "name": "stdout",
     "output_type": "stream",
     "text": [
      "Epoch 53/100\n",
      "1022/1022 [==============================] - 0s 46us/step - loss: 0.3512 - accuracy: 0.8650 - val_loss: 0.3084 - val_accuracy: 0.8904\n",
      "Epoch 54/100\n",
      "1022/1022 [==============================] - 0s 37us/step - loss: 0.3481 - accuracy: 0.8679 - val_loss: 0.3057 - val_accuracy: 0.8904\n",
      "Epoch 55/100\n",
      "1022/1022 [==============================] - 0s 38us/step - loss: 0.3455 - accuracy: 0.8650 - val_loss: 0.3031 - val_accuracy: 0.8995\n",
      "Epoch 56/100\n",
      "1022/1022 [==============================] - 0s 43us/step - loss: 0.3431 - accuracy: 0.8699 - val_loss: 0.2996 - val_accuracy: 0.8950\n",
      "Epoch 57/100\n",
      "1022/1022 [==============================] - 0s 39us/step - loss: 0.3408 - accuracy: 0.8640 - val_loss: 0.2968 - val_accuracy: 0.8904\n",
      "Epoch 58/100\n",
      "1022/1022 [==============================] - 0s 39us/step - loss: 0.3381 - accuracy: 0.8718 - val_loss: 0.2948 - val_accuracy: 0.8950\n",
      "Epoch 59/100\n",
      "1022/1022 [==============================] - 0s 43us/step - loss: 0.3366 - accuracy: 0.8699 - val_loss: 0.2921 - val_accuracy: 0.8950\n",
      "Epoch 60/100\n",
      "1022/1022 [==============================] - 0s 41us/step - loss: 0.3340 - accuracy: 0.8689 - val_loss: 0.2903 - val_accuracy: 0.8950\n",
      "Epoch 61/100\n",
      "1022/1022 [==============================] - 0s 38us/step - loss: 0.3328 - accuracy: 0.8679 - val_loss: 0.2871 - val_accuracy: 0.8950\n",
      "Epoch 62/100\n",
      "1022/1022 [==============================] - 0s 42us/step - loss: 0.3304 - accuracy: 0.8728 - val_loss: 0.2854 - val_accuracy: 0.8995\n",
      "Epoch 63/100\n",
      "1022/1022 [==============================] - 0s 40us/step - loss: 0.3285 - accuracy: 0.8699 - val_loss: 0.2833 - val_accuracy: 0.8950\n",
      "Epoch 64/100\n",
      "1022/1022 [==============================] - 0s 45us/step - loss: 0.3273 - accuracy: 0.8728 - val_loss: 0.2811 - val_accuracy: 0.8950\n",
      "Epoch 65/100\n",
      "1022/1022 [==============================] - 0s 61us/step - loss: 0.3256 - accuracy: 0.8708 - val_loss: 0.2793 - val_accuracy: 0.8950\n",
      "Epoch 66/100\n",
      "1022/1022 [==============================] - 0s 53us/step - loss: 0.3235 - accuracy: 0.8718 - val_loss: 0.2777 - val_accuracy: 0.8950\n",
      "Epoch 67/100\n",
      "1022/1022 [==============================] - 0s 63us/step - loss: 0.3225 - accuracy: 0.8718 - val_loss: 0.2760 - val_accuracy: 0.8950\n",
      "Epoch 68/100\n",
      "1022/1022 [==============================] - 0s 60us/step - loss: 0.3207 - accuracy: 0.8738 - val_loss: 0.2752 - val_accuracy: 0.8950\n",
      "Epoch 69/100\n",
      "1022/1022 [==============================] - 0s 68us/step - loss: 0.3195 - accuracy: 0.8767 - val_loss: 0.2727 - val_accuracy: 0.8950\n",
      "Epoch 70/100\n",
      "1022/1022 [==============================] - 0s 59us/step - loss: 0.3178 - accuracy: 0.8777 - val_loss: 0.2714 - val_accuracy: 0.8950\n",
      "Epoch 71/100\n",
      "1022/1022 [==============================] - 0s 65us/step - loss: 0.3165 - accuracy: 0.8757 - val_loss: 0.2699 - val_accuracy: 0.8950\n",
      "Epoch 72/100\n",
      "1022/1022 [==============================] - 0s 64us/step - loss: 0.3156 - accuracy: 0.8738 - val_loss: 0.2690 - val_accuracy: 0.8950\n",
      "Epoch 73/100\n",
      "1022/1022 [==============================] - 0s 67us/step - loss: 0.3143 - accuracy: 0.8748 - val_loss: 0.2673 - val_accuracy: 0.9041\n",
      "Epoch 74/100\n",
      "1022/1022 [==============================] - 0s 67us/step - loss: 0.3137 - accuracy: 0.8757 - val_loss: 0.2662 - val_accuracy: 0.9041\n",
      "Epoch 75/100\n",
      "1022/1022 [==============================] - 0s 55us/step - loss: 0.3129 - accuracy: 0.8738 - val_loss: 0.2649 - val_accuracy: 0.9041\n",
      "Epoch 76/100\n",
      "1022/1022 [==============================] - 0s 47us/step - loss: 0.3112 - accuracy: 0.8777 - val_loss: 0.2641 - val_accuracy: 0.9041\n",
      "Epoch 77/100\n",
      "1022/1022 [==============================] - 0s 81us/step - loss: 0.3105 - accuracy: 0.8796 - val_loss: 0.2628 - val_accuracy: 0.9041\n",
      "Epoch 78/100\n",
      "1022/1022 [==============================] - 0s 68us/step - loss: 0.3092 - accuracy: 0.8806 - val_loss: 0.2619 - val_accuracy: 0.8995\n",
      "Epoch 79/100\n",
      "1022/1022 [==============================] - 0s 70us/step - loss: 0.3080 - accuracy: 0.8777 - val_loss: 0.2610 - val_accuracy: 0.9041\n",
      "Epoch 80/100\n",
      "1022/1022 [==============================] - 0s 66us/step - loss: 0.3070 - accuracy: 0.8816 - val_loss: 0.2609 - val_accuracy: 0.8950\n",
      "Epoch 81/100\n",
      "1022/1022 [==============================] - 0s 81us/step - loss: 0.3068 - accuracy: 0.8816 - val_loss: 0.2591 - val_accuracy: 0.8995\n",
      "Epoch 82/100\n",
      "1022/1022 [==============================] - 0s 67us/step - loss: 0.3057 - accuracy: 0.8787 - val_loss: 0.2583 - val_accuracy: 0.9041\n",
      "Epoch 83/100\n",
      "1022/1022 [==============================] - 0s 69us/step - loss: 0.3050 - accuracy: 0.8787 - val_loss: 0.2575 - val_accuracy: 0.9041\n",
      "Epoch 84/100\n",
      "1022/1022 [==============================] - 0s 74us/step - loss: 0.3049 - accuracy: 0.8767 - val_loss: 0.2573 - val_accuracy: 0.9087\n",
      "Epoch 85/100\n",
      "1022/1022 [==============================] - 0s 53us/step - loss: 0.3038 - accuracy: 0.8806 - val_loss: 0.2560 - val_accuracy: 0.9087\n",
      "Epoch 86/100\n",
      "1022/1022 [==============================] - 0s 49us/step - loss: 0.3015 - accuracy: 0.8816 - val_loss: 0.2568 - val_accuracy: 0.8995\n",
      "Epoch 87/100\n",
      "1022/1022 [==============================] - 0s 58us/step - loss: 0.3017 - accuracy: 0.8806 - val_loss: 0.2545 - val_accuracy: 0.9041\n",
      "Epoch 88/100\n",
      "1022/1022 [==============================] - 0s 73us/step - loss: 0.3011 - accuracy: 0.8816 - val_loss: 0.2537 - val_accuracy: 0.8995\n",
      "Epoch 89/100\n",
      "1022/1022 [==============================] - 0s 66us/step - loss: 0.2998 - accuracy: 0.8757 - val_loss: 0.2543 - val_accuracy: 0.9132\n",
      "Epoch 90/100\n",
      "1022/1022 [==============================] - 0s 66us/step - loss: 0.2996 - accuracy: 0.8787 - val_loss: 0.2535 - val_accuracy: 0.9132\n",
      "Epoch 91/100\n",
      "1022/1022 [==============================] - 0s 77us/step - loss: 0.2985 - accuracy: 0.8767 - val_loss: 0.2522 - val_accuracy: 0.8995\n",
      "Epoch 92/100\n",
      "1022/1022 [==============================] - 0s 66us/step - loss: 0.2981 - accuracy: 0.8865 - val_loss: 0.2520 - val_accuracy: 0.9041\n",
      "Epoch 93/100\n",
      "1022/1022 [==============================] - 0s 56us/step - loss: 0.2976 - accuracy: 0.8806 - val_loss: 0.2510 - val_accuracy: 0.8995\n",
      "Epoch 94/100\n",
      "1022/1022 [==============================] - 0s 66us/step - loss: 0.2962 - accuracy: 0.8845 - val_loss: 0.2505 - val_accuracy: 0.8995\n",
      "Epoch 95/100\n",
      "1022/1022 [==============================] - 0s 66us/step - loss: 0.2958 - accuracy: 0.8836 - val_loss: 0.2504 - val_accuracy: 0.9041\n",
      "Epoch 96/100\n",
      "1022/1022 [==============================] - 0s 74us/step - loss: 0.2954 - accuracy: 0.8806 - val_loss: 0.2496 - val_accuracy: 0.9087\n",
      "Epoch 97/100\n",
      "1022/1022 [==============================] - 0s 65us/step - loss: 0.2952 - accuracy: 0.8836 - val_loss: 0.2488 - val_accuracy: 0.9041\n",
      "Epoch 98/100\n",
      "1022/1022 [==============================] - 0s 63us/step - loss: 0.2937 - accuracy: 0.8865 - val_loss: 0.2486 - val_accuracy: 0.9087\n",
      "Epoch 99/100\n",
      "1022/1022 [==============================] - 0s 56us/step - loss: 0.2936 - accuracy: 0.8885 - val_loss: 0.2479 - val_accuracy: 0.9087\n",
      "Epoch 100/100\n",
      "1022/1022 [==============================] - 0s 50us/step - loss: 0.2930 - accuracy: 0.8865 - val_loss: 0.2475 - val_accuracy: 0.9087\n"
     ]
    }
   ],
   "source": [
    "model = Sequential([Dense(32,activation = 'relu',input_shape = (10,)), Dense(32,activation = 'relu'), Dense(1,activation = 'sigmoid'),])\n",
    "model.compile(optimizer = 'sgd',loss = 'binary_crossentropy',metrics = ['accuracy'])\n",
    "hist = model.fit(X_train,Y_train, batch_size = 32, epochs = 100, validation_data = (X_val,Y_val))"
   ]
  },
  {
   "cell_type": "code",
   "execution_count": 7,
   "metadata": {
    "colab": {
     "base_uri": "https://localhost:8080/",
     "height": 52
    },
    "id": "x-oMKWDkkgSv",
    "outputId": "6f578382-7d5b-4ba1-c530-39292ea4ced2"
   },
   "outputs": [
    {
     "name": "stdout",
     "output_type": "stream",
     "text": [
      "219/219 [==============================] - 0s 27us/step\n"
     ]
    },
    {
     "data": {
      "text/plain": [
       "89.49771523475647"
      ]
     },
     "execution_count": 7,
     "metadata": {},
     "output_type": "execute_result"
    }
   ],
   "source": [
    "model.evaluate(X_test,Y_test)[1] * 100"
   ]
  },
  {
   "cell_type": "code",
   "execution_count": 8,
   "metadata": {
    "colab": {
     "base_uri": "https://localhost:8080/",
     "height": 295
    },
    "id": "BotmTW6il6YH",
    "outputId": "d7f28e94-0333-40e5-918b-0d5ac903c903"
   },
   "outputs": [
    {
     "data": {
      "image/png": "[encoded data removed]",
      "text/plain": [
       "<Figure size 432x288 with 1 Axes>"
      ]
     },
     "metadata": {
      "needs_background": "light"
     },
     "output_type": "display_data"
    }
   ],
   "source": [
    "plt.plot(hist.history['loss'])\n",
    "plt.plot(hist.history['val_loss'])\n",
    "plt.title('Model loss')\n",
    "plt.ylabel('Loss')\n",
    "plt.xlabel('Epochs')\n",
    "plt.legend(['Train','Val'], loc = 'upper right')\n",
    "plt.show()"
   ]
  },
  {
   "cell_type": "code",
   "execution_count": 9,
   "metadata": {
    "colab": {
     "base_uri": "https://localhost:8080/",
     "height": 295
    },
    "id": "dOY76v4znCed",
    "outputId": "e3bf6805-ccaa-47c7-8ac4-133e90bea07f"
   },
   "outputs": [
    {
     "data": {
      "image/png": "[encoded data removed]",
      "text/plain": [
       "<Figure size 432x288 with 1 Axes>"
      ]
     },
     "metadata": {
      "needs_background": "light"
     },
     "output_type": "display_data"
    }
   ],
   "source": [
    "plt.plot(hist.history['accuracy'])\n",
    "plt.plot(hist.history['val_accuracy'])\n",
    "plt.title('Model accuracy')\n",
    "plt.ylabel('Accuracy')\n",
    "plt.xlabel('Epochs')\n",
    "plt.legend(['Train','Val'], loc = 'lower right')\n",
    "plt.show()"
   ]
  },
  {
   "cell_type": "code",
   "execution_count": 10,
   "metadata": {
    "colab": {
     "base_uri": "https://localhost:8080/",
     "height": 1000
    },
    "id": "eXnOCuS0ndQ5",
    "outputId": "c7eaf5a5-3381-4322-84bb-3c697528ad0e"
   },
   "outputs": [
    {
     "name": "stdout",
     "output_type": "stream",
     "text": [
      "Train on 1022 samples, validate on 219 samples\n",
      "Epoch 1/100\n",
      "1022/1022 [==============================] - 3s 3ms/step - loss: 0.5162 - accuracy: 0.7221 - val_loss: 0.3776 - val_accuracy: 0.8402\n",
      "Epoch 2/100\n",
      "1022/1022 [==============================] - 3s 3ms/step - loss: 0.3728 - accuracy: 0.8552 - val_loss: 0.3047 - val_accuracy: 0.8402\n",
      "Epoch 3/100\n",
      "1022/1022 [==============================] - 3s 3ms/step - loss: 0.3436 - accuracy: 0.8542 - val_loss: 0.2642 - val_accuracy: 0.8767\n",
      "Epoch 4/100\n",
      "1022/1022 [==============================] - 5s 4ms/step - loss: 0.3105 - accuracy: 0.8669 - val_loss: 0.2709 - val_accuracy: 0.8767\n",
      "Epoch 5/100\n",
      "1022/1022 [==============================] - 3s 3ms/step - loss: 0.2734 - accuracy: 0.8836 - val_loss: 0.2933 - val_accuracy: 0.8356\n",
      "Epoch 6/100\n",
      "1022/1022 [==============================] - 3s 3ms/step - loss: 0.2980 - accuracy: 0.8894 - val_loss: 0.2607 - val_accuracy: 0.8995\n",
      "Epoch 7/100\n",
      "1022/1022 [==============================] - 4s 4ms/step - loss: 0.2904 - accuracy: 0.8728 - val_loss: 0.2502 - val_accuracy: 0.8767\n",
      "Epoch 8/100\n",
      "1022/1022 [==============================] - 3s 3ms/step - loss: 0.2939 - accuracy: 0.8796 - val_loss: 0.2443 - val_accuracy: 0.8858\n",
      "Epoch 9/100\n",
      "1022/1022 [==============================] - 3s 3ms/step - loss: 0.2466 - accuracy: 0.8963 - val_loss: 0.2434 - val_accuracy: 0.8721\n",
      "Epoch 10/100\n",
      "1022/1022 [==============================] - 3s 3ms/step - loss: 0.2715 - accuracy: 0.8855 - val_loss: 0.2357 - val_accuracy: 0.8904\n",
      "Epoch 11/100\n",
      "1022/1022 [==============================] - 3s 2ms/step - loss: 0.2480 - accuracy: 0.9080 - val_loss: 0.2480 - val_accuracy: 0.8767\n",
      "Epoch 12/100\n",
      "1022/1022 [==============================] - 3s 3ms/step - loss: 0.2297 - accuracy: 0.9031 - val_loss: 0.2347 - val_accuracy: 0.9132\n",
      "Epoch 13/100\n",
      "1022/1022 [==============================] - 3s 3ms/step - loss: 0.2314 - accuracy: 0.9041 - val_loss: 0.2312 - val_accuracy: 0.8950\n",
      "Epoch 14/100\n",
      "1022/1022 [==============================] - 3s 3ms/step - loss: 0.2455 - accuracy: 0.8924 - val_loss: 0.3104 - val_accuracy: 0.9132\n",
      "Epoch 15/100\n",
      "1022/1022 [==============================] - 3s 2ms/step - loss: 0.2583 - accuracy: 0.8826 - val_loss: 0.3088 - val_accuracy: 0.9041\n",
      "Epoch 16/100\n",
      "1022/1022 [==============================] - 3s 3ms/step - loss: 0.2415 - accuracy: 0.9041 - val_loss: 0.2329 - val_accuracy: 0.8995\n",
      "Epoch 17/100\n",
      "1022/1022 [==============================] - 2s 2ms/step - loss: 0.2103 - accuracy: 0.9188 - val_loss: 0.2307 - val_accuracy: 0.9178\n",
      "Epoch 18/100\n",
      "1022/1022 [==============================] - 3s 3ms/step - loss: 0.2239 - accuracy: 0.9110 - val_loss: 0.2451 - val_accuracy: 0.8950\n",
      "Epoch 19/100\n",
      "1022/1022 [==============================] - 3s 3ms/step - loss: 0.2230 - accuracy: 0.9080 - val_loss: 0.2366 - val_accuracy: 0.9132\n",
      "Epoch 20/100\n",
      "1022/1022 [==============================] - 3s 3ms/step - loss: 0.2132 - accuracy: 0.9178 - val_loss: 0.2450 - val_accuracy: 0.9041\n",
      "Epoch 21/100\n",
      "1022/1022 [==============================] - 3s 3ms/step - loss: 0.2155 - accuracy: 0.9178 - val_loss: 0.3004 - val_accuracy: 0.8995\n",
      "Epoch 22/100\n",
      "1022/1022 [==============================] - 3s 3ms/step - loss: 0.2060 - accuracy: 0.9139 - val_loss: 0.2284 - val_accuracy: 0.9361\n",
      "Epoch 23/100\n",
      "1022/1022 [==============================] - 2s 2ms/step - loss: 0.2142 - accuracy: 0.9090 - val_loss: 0.2307 - val_accuracy: 0.9087\n",
      "Epoch 24/100\n",
      "1022/1022 [==============================] - 3s 3ms/step - loss: 0.2068 - accuracy: 0.9159 - val_loss: 0.2566 - val_accuracy: 0.8904\n",
      "Epoch 25/100\n",
      "1022/1022 [==============================] - 3s 3ms/step - loss: 0.2028 - accuracy: 0.9149 - val_loss: 0.3314 - val_accuracy: 0.8721\n",
      "Epoch 26/100\n",
      "1022/1022 [==============================] - 3s 3ms/step - loss: 0.2252 - accuracy: 0.9080 - val_loss: 0.2116 - val_accuracy: 0.9178\n",
      "Epoch 27/100\n",
      "1022/1022 [==============================] - 3s 3ms/step - loss: 0.2009 - accuracy: 0.9159 - val_loss: 0.2403 - val_accuracy: 0.9041\n",
      "Epoch 28/100\n",
      "1022/1022 [==============================] - 3s 3ms/step - loss: 0.2048 - accuracy: 0.9070 - val_loss: 0.2354 - val_accuracy: 0.8904\n",
      "Epoch 29/100\n",
      "1022/1022 [==============================] - 3s 2ms/step - loss: 0.2050 - accuracy: 0.9149 - val_loss: 0.2327 - val_accuracy: 0.9087\n",
      "Epoch 30/100\n",
      "1022/1022 [==============================] - 3s 3ms/step - loss: 0.1955 - accuracy: 0.9188 - val_loss: 0.2475 - val_accuracy: 0.9178\n",
      "Epoch 31/100\n",
      "1022/1022 [==============================] - 3s 3ms/step - loss: 0.1725 - accuracy: 0.9344 - val_loss: 0.3073 - val_accuracy: 0.8721\n",
      "Epoch 32/100\n",
      "1022/1022 [==============================] - 3s 3ms/step - loss: 0.2015 - accuracy: 0.9119 - val_loss: 0.2233 - val_accuracy: 0.9269\n",
      "Epoch 33/100\n",
      "1022/1022 [==============================] - 3s 3ms/step - loss: 0.1836 - accuracy: 0.9295 - val_loss: 0.3248 - val_accuracy: 0.8950\n",
      "Epoch 34/100\n",
      "1022/1022 [==============================] - 3s 3ms/step - loss: 0.1831 - accuracy: 0.9227 - val_loss: 0.2450 - val_accuracy: 0.8995\n",
      "Epoch 35/100\n",
      "1022/1022 [==============================] - 3s 2ms/step - loss: 0.1808 - accuracy: 0.9247 - val_loss: 0.2674 - val_accuracy: 0.9178\n",
      "Epoch 36/100\n",
      "1022/1022 [==============================] - 3s 3ms/step - loss: 0.1882 - accuracy: 0.9266 - val_loss: 0.2774 - val_accuracy: 0.9178\n",
      "Epoch 37/100\n",
      "1022/1022 [==============================] - 3s 3ms/step - loss: 0.1781 - accuracy: 0.9227 - val_loss: 0.3432 - val_accuracy: 0.8767\n",
      "Epoch 38/100\n",
      "1022/1022 [==============================] - 3s 3ms/step - loss: 0.1956 - accuracy: 0.9198 - val_loss: 0.2444 - val_accuracy: 0.8950\n",
      "Epoch 39/100\n",
      "1022/1022 [==============================] - 3s 3ms/step - loss: 0.1846 - accuracy: 0.9247 - val_loss: 0.2954 - val_accuracy: 0.8767\n",
      "Epoch 40/100\n",
      "1022/1022 [==============================] - 3s 3ms/step - loss: 0.1822 - accuracy: 0.9247 - val_loss: 0.2654 - val_accuracy: 0.8995\n",
      "Epoch 41/100\n",
      "1022/1022 [==============================] - 3s 3ms/step - loss: 0.2053 - accuracy: 0.9110 - val_loss: 0.3263 - val_accuracy: 0.9224\n",
      "Epoch 42/100\n",
      "1022/1022 [==============================] - 3s 3ms/step - loss: 0.1689 - accuracy: 0.9256 - val_loss: 0.2590 - val_accuracy: 0.9087\n",
      "Epoch 43/100\n",
      "1022/1022 [==============================] - 3s 3ms/step - loss: 0.1799 - accuracy: 0.9266 - val_loss: 0.3266 - val_accuracy: 0.8813\n",
      "Epoch 44/100\n",
      "1022/1022 [==============================] - 3s 3ms/step - loss: 0.2047 - accuracy: 0.9198 - val_loss: 0.2517 - val_accuracy: 0.9178\n",
      "Epoch 45/100\n",
      "1022/1022 [==============================] - 3s 3ms/step - loss: 0.1787 - accuracy: 0.9344 - val_loss: 0.3074 - val_accuracy: 0.9041\n",
      "Epoch 46/100\n",
      "1022/1022 [==============================] - 3s 3ms/step - loss: 0.1933 - accuracy: 0.9188 - val_loss: 0.3066 - val_accuracy: 0.8858\n",
      "Epoch 47/100\n",
      "1022/1022 [==============================] - 3s 3ms/step - loss: 0.1766 - accuracy: 0.9227 - val_loss: 0.3146 - val_accuracy: 0.9041\n",
      "Epoch 48/100\n",
      "1022/1022 [==============================] - 3s 3ms/step - loss: 0.1729 - accuracy: 0.9305 - val_loss: 0.2893 - val_accuracy: 0.8950\n",
      "Epoch 49/100\n",
      "1022/1022 [==============================] - 3s 3ms/step - loss: 0.1788 - accuracy: 0.9207 - val_loss: 0.2489 - val_accuracy: 0.9041\n",
      "Epoch 50/100\n",
      "1022/1022 [==============================] - 3s 3ms/step - loss: 0.1771 - accuracy: 0.9217 - val_loss: 0.2540 - val_accuracy: 0.9087\n",
      "Epoch 51/100\n",
      "1022/1022 [==============================] - 3s 3ms/step - loss: 0.1591 - accuracy: 0.9374 - val_loss: 0.4343 - val_accuracy: 0.9132\n",
      "Epoch 52/100\n",
      "1022/1022 [==============================] - 3s 3ms/step - loss: 0.1728 - accuracy: 0.9393 - val_loss: 0.3123 - val_accuracy: 0.9041\n",
      "Epoch 53/100\n",
      "1022/1022 [==============================] - 3s 3ms/step - loss: 0.1750 - accuracy: 0.9266 - val_loss: 0.2626 - val_accuracy: 0.9041\n",
      "Epoch 54/100\n",
      "1022/1022 [==============================] - 3s 3ms/step - loss: 0.1631 - accuracy: 0.9335 - val_loss: 0.3260 - val_accuracy: 0.9041\n",
      "Epoch 55/100\n",
      "1022/1022 [==============================] - 3s 3ms/step - loss: 0.1524 - accuracy: 0.9413 - val_loss: 0.3008 - val_accuracy: 0.9132\n",
      "Epoch 56/100\n",
      "1022/1022 [==============================] - 3s 3ms/step - loss: 0.1507 - accuracy: 0.9354 - val_loss: 0.3759 - val_accuracy: 0.8858\n"
     ]
    },
    {
     "name": "stdout",
     "output_type": "stream",
     "text": [
      "Epoch 57/100\n",
      "1022/1022 [==============================] - 2s 2ms/step - loss: 0.1734 - accuracy: 0.9207 - val_loss: 0.3421 - val_accuracy: 0.8813\n",
      "Epoch 58/100\n",
      "1022/1022 [==============================] - 3s 3ms/step - loss: 0.1582 - accuracy: 0.9325 - val_loss: 0.3087 - val_accuracy: 0.8950\n",
      "Epoch 59/100\n",
      "1022/1022 [==============================] - 3s 3ms/step - loss: 0.1530 - accuracy: 0.9413 - val_loss: 0.3440 - val_accuracy: 0.8904\n",
      "Epoch 60/100\n",
      "1022/1022 [==============================] - 3s 3ms/step - loss: 0.1593 - accuracy: 0.9374 - val_loss: 0.3096 - val_accuracy: 0.9132\n",
      "Epoch 61/100\n",
      "1022/1022 [==============================] - 3s 3ms/step - loss: 0.1435 - accuracy: 0.9442 - val_loss: 0.3514 - val_accuracy: 0.9087\n",
      "Epoch 62/100\n",
      "1022/1022 [==============================] - 4s 4ms/step - loss: 0.1371 - accuracy: 0.9432 - val_loss: 0.4112 - val_accuracy: 0.9087\n",
      "Epoch 63/100\n",
      "1022/1022 [==============================] - 3s 3ms/step - loss: 0.1745 - accuracy: 0.9207 - val_loss: 0.3976 - val_accuracy: 0.9041\n",
      "Epoch 64/100\n",
      "1022/1022 [==============================] - 3s 3ms/step - loss: 0.1822 - accuracy: 0.9286 - val_loss: 0.3301 - val_accuracy: 0.8995\n",
      "Epoch 65/100\n",
      "1022/1022 [==============================] - 3s 3ms/step - loss: 0.1586 - accuracy: 0.9286 - val_loss: 0.3304 - val_accuracy: 0.9041\n",
      "Epoch 66/100\n",
      "1022/1022 [==============================] - 3s 3ms/step - loss: 0.1447 - accuracy: 0.9393 - val_loss: 0.3788 - val_accuracy: 0.8995\n",
      "Epoch 67/100\n",
      "1022/1022 [==============================] - 3s 3ms/step - loss: 0.1324 - accuracy: 0.9413 - val_loss: 0.4406 - val_accuracy: 0.8904\n",
      "Epoch 68/100\n",
      "1022/1022 [==============================] - 3s 3ms/step - loss: 0.1419 - accuracy: 0.9384 - val_loss: 0.3432 - val_accuracy: 0.9178\n",
      "Epoch 69/100\n",
      "1022/1022 [==============================] - 3s 3ms/step - loss: 0.1560 - accuracy: 0.9315 - val_loss: 0.3925 - val_accuracy: 0.8813\n",
      "Epoch 70/100\n",
      "1022/1022 [==============================] - 3s 3ms/step - loss: 0.1568 - accuracy: 0.9354 - val_loss: 0.3684 - val_accuracy: 0.9041\n",
      "Epoch 71/100\n",
      "1022/1022 [==============================] - 3s 3ms/step - loss: 0.1469 - accuracy: 0.9364 - val_loss: 0.3926 - val_accuracy: 0.8904\n",
      "Epoch 72/100\n",
      "1022/1022 [==============================] - 3s 3ms/step - loss: 0.1495 - accuracy: 0.9384 - val_loss: 0.3057 - val_accuracy: 0.8995\n",
      "Epoch 73/100\n",
      "1022/1022 [==============================] - 3s 3ms/step - loss: 0.1481 - accuracy: 0.9432 - val_loss: 0.4369 - val_accuracy: 0.8813\n",
      "Epoch 74/100\n",
      "1022/1022 [==============================] - 3s 3ms/step - loss: 0.1438 - accuracy: 0.9354 - val_loss: 0.4550 - val_accuracy: 0.8858\n",
      "Epoch 75/100\n",
      "1022/1022 [==============================] - 3s 3ms/step - loss: 0.1315 - accuracy: 0.9491 - val_loss: 0.4178 - val_accuracy: 0.8858\n",
      "Epoch 76/100\n",
      "1022/1022 [==============================] - 3s 3ms/step - loss: 0.1290 - accuracy: 0.9452 - val_loss: 0.6464 - val_accuracy: 0.8995\n",
      "Epoch 77/100\n",
      "1022/1022 [==============================] - 3s 3ms/step - loss: 0.1530 - accuracy: 0.9315 - val_loss: 0.3762 - val_accuracy: 0.8995\n",
      "Epoch 78/100\n",
      "1022/1022 [==============================] - 3s 3ms/step - loss: 0.1535 - accuracy: 0.9325 - val_loss: 0.3524 - val_accuracy: 0.8950\n",
      "Epoch 79/100\n",
      "1022/1022 [==============================] - 3s 3ms/step - loss: 0.1376 - accuracy: 0.9335 - val_loss: 0.3819 - val_accuracy: 0.9224\n",
      "Epoch 80/100\n",
      "1022/1022 [==============================] - 3s 3ms/step - loss: 0.1329 - accuracy: 0.9403 - val_loss: 0.4286 - val_accuracy: 0.9132\n",
      "Epoch 81/100\n",
      "1022/1022 [==============================] - 3s 3ms/step - loss: 0.1472 - accuracy: 0.9325 - val_loss: 0.5850 - val_accuracy: 0.8767\n",
      "Epoch 82/100\n",
      "1022/1022 [==============================] - 3s 3ms/step - loss: 0.1965 - accuracy: 0.9159 - val_loss: 0.3484 - val_accuracy: 0.8904\n",
      "Epoch 83/100\n",
      "1022/1022 [==============================] - 3s 3ms/step - loss: 0.1835 - accuracy: 0.9237 - val_loss: 0.3562 - val_accuracy: 0.8904\n",
      "Epoch 84/100\n",
      "1022/1022 [==============================] - 3s 3ms/step - loss: 0.1850 - accuracy: 0.9315 - val_loss: 0.3111 - val_accuracy: 0.9178\n",
      "Epoch 85/100\n",
      "1022/1022 [==============================] - 3s 3ms/step - loss: 0.1580 - accuracy: 0.9354 - val_loss: 0.4376 - val_accuracy: 0.8950\n",
      "Epoch 86/100\n",
      "1022/1022 [==============================] - 3s 3ms/step - loss: 0.1275 - accuracy: 0.9354 - val_loss: 0.5026 - val_accuracy: 0.9178\n",
      "Epoch 87/100\n",
      "1022/1022 [==============================] - 3s 3ms/step - loss: 0.1225 - accuracy: 0.9442 - val_loss: 0.5197 - val_accuracy: 0.8767\n",
      "Epoch 88/100\n",
      "1022/1022 [==============================] - 3s 3ms/step - loss: 0.1205 - accuracy: 0.9472 - val_loss: 0.5079 - val_accuracy: 0.8813\n",
      "Epoch 89/100\n",
      "1022/1022 [==============================] - 3s 3ms/step - loss: 0.1316 - accuracy: 0.9413 - val_loss: 0.5080 - val_accuracy: 0.8904\n",
      "Epoch 90/100\n",
      "1022/1022 [==============================] - 4s 3ms/step - loss: 0.1743 - accuracy: 0.9266 - val_loss: 0.3730 - val_accuracy: 0.9041\n",
      "Epoch 91/100\n",
      "1022/1022 [==============================] - 3s 3ms/step - loss: 0.1519 - accuracy: 0.9354 - val_loss: 0.5782 - val_accuracy: 0.9132\n",
      "Epoch 92/100\n",
      "1022/1022 [==============================] - 3s 3ms/step - loss: 0.1879 - accuracy: 0.9403 - val_loss: 0.3089 - val_accuracy: 0.8858\n",
      "Epoch 93/100\n",
      "1022/1022 [==============================] - 3s 3ms/step - loss: 0.1413 - accuracy: 0.9432 - val_loss: 0.3816 - val_accuracy: 0.8995\n",
      "Epoch 94/100\n",
      "1022/1022 [==============================] - 3s 3ms/step - loss: 0.1751 - accuracy: 0.9276 - val_loss: 0.3878 - val_accuracy: 0.9087\n",
      "Epoch 95/100\n",
      "1022/1022 [==============================] - 3s 3ms/step - loss: 0.1405 - accuracy: 0.9393 - val_loss: 0.3810 - val_accuracy: 0.8950\n",
      "Epoch 96/100\n",
      "1022/1022 [==============================] - 3s 3ms/step - loss: 0.1275 - accuracy: 0.9452 - val_loss: 0.4204 - val_accuracy: 0.8995\n",
      "Epoch 97/100\n",
      "1022/1022 [==============================] - 3s 3ms/step - loss: 0.1110 - accuracy: 0.9511 - val_loss: 0.3970 - val_accuracy: 0.9132\n",
      "Epoch 98/100\n",
      "1022/1022 [==============================] - 3s 3ms/step - loss: 0.1086 - accuracy: 0.9521 - val_loss: 0.4982 - val_accuracy: 0.8904\n",
      "Epoch 99/100\n",
      "1022/1022 [==============================] - 3s 3ms/step - loss: 0.1200 - accuracy: 0.9442 - val_loss: 0.5375 - val_accuracy: 0.8904\n",
      "Epoch 100/100\n",
      "1022/1022 [==============================] - 3s 3ms/step - loss: 0.1205 - accuracy: 0.9452 - val_loss: 0.4583 - val_accuracy: 0.9041\n"
     ]
    }
   ],
   "source": [
    "model_2 = Sequential([Dense(1000,activation = 'relu',input_shape = (10,)), Dense(1000,activation = 'relu'), Dense(1000,activation = 'relu'), Dense(1000,activation = 'relu'), Dense(1,activation = 'sigmoid'),])\n",
    "model_2.compile(optimizer = 'adam',loss = 'binary_crossentropy',metrics = ['accuracy'])\n",
    "hist_2 = model_2.fit(X_train,Y_train, batch_size = 32, epochs = 100, validation_data = (X_val,Y_val))"
   ]
  },
  {
   "cell_type": "code",
   "execution_count": 11,
   "metadata": {
    "colab": {
     "base_uri": "https://localhost:8080/",
     "height": 52
    },
    "id": "Ez6h07y_oXjE",
    "outputId": "65c84545-da3a-4f46-bdd3-8c948cecf5a8"
   },
   "outputs": [
    {
     "name": "stdout",
     "output_type": "stream",
     "text": [
      "219/219 [==============================] - 0s 250us/step\n"
     ]
    },
    {
     "data": {
      "text/plain": [
       "88.58447670936584"
      ]
     },
     "execution_count": 11,
     "metadata": {},
     "output_type": "execute_result"
    }
   ],
   "source": [
    "model_2.evaluate(X_test,Y_test)[1] * 100"
   ]
  },
  {
   "cell_type": "code",
   "execution_count": 12,
   "metadata": {
    "colab": {
     "base_uri": "https://localhost:8080/",
     "height": 295
    },
    "id": "JELHZ9IsoXmX",
    "outputId": "4d1ffd03-e3c4-4d89-f8c1-d3cb6144365d"
   },
   "outputs": [
    {
     "data": {
      "image/png": "[encoded data removed]",
      "text/plain": [
       "<Figure size 432x288 with 1 Axes>"
      ]
     },
     "metadata": {
      "needs_background": "light"
     },
     "output_type": "display_data"
    }
   ],
   "source": [
    "plt.plot(hist_2.history['loss'])\n",
    "plt.plot(hist_2.history['val_loss'])\n",
    "plt.title('Model loss')\n",
    "plt.ylabel('Loss')\n",
    "plt.xlabel('Epochs')\n",
    "plt.legend(['Train','Val'], loc = 'upper right')\n",
    "plt.show()"
   ]
  },
  {
   "cell_type": "code",
   "execution_count": 13,
   "metadata": {
    "colab": {
     "base_uri": "https://localhost:8080/",
     "height": 295
    },
    "id": "VcREsvlwoc6c",
    "outputId": "cb58d5c3-4002-4a46-e870-2e9d8d8f8fe6"
   },
   "outputs": [
    {
     "data": {
      "image/png": "[encoded data removed]",
      "text/plain": [
       "<Figure size 432x288 with 1 Axes>"
      ]
     },
     "metadata": {
      "needs_background": "light"
     },
     "output_type": "display_data"
    }
   ],
   "source": [
    "plt.plot(hist_2.history['accuracy'])\n",
    "plt.plot(hist_2.history['val_accuracy'])\n",
    "plt.title('Model accuracy')\n",
    "plt.ylabel('Accuracy')\n",
    "plt.xlabel('Epochs')\n",
    "plt.legend(['Train','Val'], loc = 'lower right')\n",
    "plt.show()"
   ]
  },
  {
   "cell_type": "code",
   "execution_count": 14,
   "metadata": {
    "colab": {
     "base_uri": "https://localhost:8080/",
     "height": 1000
    },
    "id": "cmDgj2meBJ80",
    "outputId": "95bf5441-2de1-40ac-97b5-e3e9778ddd95"
   },
   "outputs": [
    {
     "name": "stdout",
     "output_type": "stream",
     "text": [
      "Train on 1022 samples, validate on 219 samples\n",
      "Epoch 1/100\n",
      "1022/1022 [==============================] - 4s 4ms/step - loss: 14.1882 - accuracy: 0.5998 - val_loss: 3.8265 - val_accuracy: 0.7717\n",
      "Epoch 2/100\n",
      "1022/1022 [==============================] - 3s 3ms/step - loss: 1.6591 - accuracy: 0.8209 - val_loss: 0.6551 - val_accuracy: 0.8950\n",
      "Epoch 3/100\n",
      "1022/1022 [==============================] - 4s 4ms/step - loss: 0.5459 - accuracy: 0.8581 - val_loss: 0.4288 - val_accuracy: 0.9224\n",
      "Epoch 4/100\n",
      "1022/1022 [==============================] - 4s 4ms/step - loss: 0.4797 - accuracy: 0.8689 - val_loss: 0.5157 - val_accuracy: 0.8174\n",
      "Epoch 5/100\n",
      "1022/1022 [==============================] - 4s 4ms/step - loss: 0.4801 - accuracy: 0.8542 - val_loss: 0.4067 - val_accuracy: 0.9087\n",
      "Epoch 6/100\n",
      "1022/1022 [==============================] - 5s 5ms/step - loss: 0.4576 - accuracy: 0.8669 - val_loss: 0.3748 - val_accuracy: 0.9087\n",
      "Epoch 7/100\n",
      "1022/1022 [==============================] - 5s 5ms/step - loss: 0.4456 - accuracy: 0.8552 - val_loss: 0.3801 - val_accuracy: 0.8995\n",
      "Epoch 8/100\n",
      "1022/1022 [==============================] - 4s 3ms/step - loss: 0.4158 - accuracy: 0.8708 - val_loss: 0.3753 - val_accuracy: 0.8904\n",
      "Epoch 9/100\n",
      "1022/1022 [==============================] - 3s 3ms/step - loss: 0.4586 - accuracy: 0.8562 - val_loss: 0.3856 - val_accuracy: 0.8950\n",
      "Epoch 10/100\n",
      "1022/1022 [==============================] - 3s 3ms/step - loss: 0.4825 - accuracy: 0.8415 - val_loss: 0.3920 - val_accuracy: 0.8813\n",
      "Epoch 11/100\n",
      "1022/1022 [==============================] - 3s 3ms/step - loss: 0.4303 - accuracy: 0.8669 - val_loss: 0.3538 - val_accuracy: 0.8995\n",
      "Epoch 12/100\n",
      "1022/1022 [==============================] - 3s 3ms/step - loss: 0.4091 - accuracy: 0.8767 - val_loss: 0.3616 - val_accuracy: 0.9041\n",
      "Epoch 13/100\n",
      "1022/1022 [==============================] - 3s 3ms/step - loss: 0.4017 - accuracy: 0.8816 - val_loss: 0.3951 - val_accuracy: 0.8676\n",
      "Epoch 14/100\n",
      "1022/1022 [==============================] - 3s 3ms/step - loss: 0.4145 - accuracy: 0.8728 - val_loss: 0.3546 - val_accuracy: 0.9132\n",
      "Epoch 15/100\n",
      "1022/1022 [==============================] - 3s 3ms/step - loss: 0.4157 - accuracy: 0.8650 - val_loss: 0.3645 - val_accuracy: 0.9041\n",
      "Epoch 16/100\n",
      "1022/1022 [==============================] - 3s 3ms/step - loss: 0.4212 - accuracy: 0.8689 - val_loss: 0.3775 - val_accuracy: 0.8813\n",
      "Epoch 17/100\n",
      "1022/1022 [==============================] - 3s 3ms/step - loss: 0.4204 - accuracy: 0.8659 - val_loss: 0.3616 - val_accuracy: 0.9087\n",
      "Epoch 18/100\n",
      "1022/1022 [==============================] - 3s 3ms/step - loss: 0.3891 - accuracy: 0.8806 - val_loss: 0.3578 - val_accuracy: 0.8995\n",
      "Epoch 19/100\n",
      "1022/1022 [==============================] - 3s 3ms/step - loss: 0.4231 - accuracy: 0.8659 - val_loss: 0.3890 - val_accuracy: 0.8904\n",
      "Epoch 20/100\n",
      "1022/1022 [==============================] - 3s 3ms/step - loss: 0.3931 - accuracy: 0.8689 - val_loss: 0.3877 - val_accuracy: 0.8721\n",
      "Epoch 21/100\n",
      "1022/1022 [==============================] - 3s 3ms/step - loss: 0.3968 - accuracy: 0.8562 - val_loss: 0.3556 - val_accuracy: 0.9041\n",
      "Epoch 22/100\n",
      "1022/1022 [==============================] - 3s 3ms/step - loss: 0.3889 - accuracy: 0.8757 - val_loss: 0.3397 - val_accuracy: 0.8995\n",
      "Epoch 23/100\n",
      "1022/1022 [==============================] - 3s 3ms/step - loss: 0.3827 - accuracy: 0.8885 - val_loss: 0.3840 - val_accuracy: 0.8630\n",
      "Epoch 24/100\n",
      "1022/1022 [==============================] - 3s 3ms/step - loss: 0.4080 - accuracy: 0.8708 - val_loss: 0.3422 - val_accuracy: 0.9041\n",
      "Epoch 25/100\n",
      "1022/1022 [==============================] - 3s 3ms/step - loss: 0.3991 - accuracy: 0.8885 - val_loss: 0.3598 - val_accuracy: 0.8858\n",
      "Epoch 26/100\n",
      "1022/1022 [==============================] - 3s 3ms/step - loss: 0.3980 - accuracy: 0.8806 - val_loss: 0.3392 - val_accuracy: 0.9087\n",
      "Epoch 27/100\n",
      "1022/1022 [==============================] - 3s 3ms/step - loss: 0.3832 - accuracy: 0.8865 - val_loss: 0.3492 - val_accuracy: 0.8858\n",
      "Epoch 28/100\n",
      "1022/1022 [==============================] - 3s 3ms/step - loss: 0.3997 - accuracy: 0.8659 - val_loss: 0.3413 - val_accuracy: 0.9041\n",
      "Epoch 29/100\n",
      "1022/1022 [==============================] - 3s 3ms/step - loss: 0.3847 - accuracy: 0.8767 - val_loss: 0.3317 - val_accuracy: 0.9132\n",
      "Epoch 30/100\n",
      "1022/1022 [==============================] - 3s 3ms/step - loss: 0.3707 - accuracy: 0.8865 - val_loss: 0.3517 - val_accuracy: 0.8676\n",
      "Epoch 31/100\n",
      "1022/1022 [==============================] - 3s 3ms/step - loss: 0.3930 - accuracy: 0.8767 - val_loss: 0.3843 - val_accuracy: 0.8721\n",
      "Epoch 32/100\n",
      "1022/1022 [==============================] - 3s 3ms/step - loss: 0.4072 - accuracy: 0.8650 - val_loss: 0.3806 - val_accuracy: 0.8950\n",
      "Epoch 33/100\n",
      "1022/1022 [==============================] - 3s 3ms/step - loss: 0.4159 - accuracy: 0.8640 - val_loss: 0.3810 - val_accuracy: 0.8813\n",
      "Epoch 34/100\n",
      "1022/1022 [==============================] - 3s 3ms/step - loss: 0.3840 - accuracy: 0.8796 - val_loss: 0.3293 - val_accuracy: 0.9087\n",
      "Epoch 35/100\n",
      "1022/1022 [==============================] - 3s 3ms/step - loss: 0.3981 - accuracy: 0.8640 - val_loss: 0.3329 - val_accuracy: 0.9132\n",
      "Epoch 36/100\n",
      "1022/1022 [==============================] - 3s 3ms/step - loss: 0.3750 - accuracy: 0.8777 - val_loss: 0.3311 - val_accuracy: 0.9087\n",
      "Epoch 37/100\n",
      "1022/1022 [==============================] - 3s 3ms/step - loss: 0.3801 - accuracy: 0.8708 - val_loss: 0.3559 - val_accuracy: 0.8950\n",
      "Epoch 38/100\n",
      "1022/1022 [==============================] - 3s 3ms/step - loss: 0.4000 - accuracy: 0.8669 - val_loss: 0.3819 - val_accuracy: 0.8676\n",
      "Epoch 39/100\n",
      "1022/1022 [==============================] - 3s 3ms/step - loss: 0.3987 - accuracy: 0.8748 - val_loss: 0.3332 - val_accuracy: 0.8995\n",
      "Epoch 40/100\n",
      "1022/1022 [==============================] - 3s 3ms/step - loss: 0.3858 - accuracy: 0.8728 - val_loss: 0.3615 - val_accuracy: 0.8630\n",
      "Epoch 41/100\n",
      "1022/1022 [==============================] - 3s 3ms/step - loss: 0.4158 - accuracy: 0.8640 - val_loss: 0.3998 - val_accuracy: 0.8904\n",
      "Epoch 42/100\n",
      "1022/1022 [==============================] - 3s 3ms/step - loss: 0.3889 - accuracy: 0.8659 - val_loss: 0.3460 - val_accuracy: 0.8995\n",
      "Epoch 43/100\n",
      "1022/1022 [==============================] - 3s 3ms/step - loss: 0.3717 - accuracy: 0.8845 - val_loss: 0.3519 - val_accuracy: 0.8995\n",
      "Epoch 44/100\n",
      "1022/1022 [==============================] - 3s 3ms/step - loss: 0.3786 - accuracy: 0.8738 - val_loss: 0.3334 - val_accuracy: 0.8995\n",
      "Epoch 45/100\n",
      "1022/1022 [==============================] - 3s 3ms/step - loss: 0.3687 - accuracy: 0.8845 - val_loss: 0.3448 - val_accuracy: 0.8858\n",
      "Epoch 46/100\n",
      "1022/1022 [==============================] - 5s 5ms/step - loss: 0.3684 - accuracy: 0.8875 - val_loss: 0.3247 - val_accuracy: 0.9041\n",
      "Epoch 47/100\n",
      "1022/1022 [==============================] - 4s 4ms/step - loss: 0.3709 - accuracy: 0.8796 - val_loss: 0.3347 - val_accuracy: 0.9041\n",
      "Epoch 48/100\n",
      "1022/1022 [==============================] - 3s 3ms/step - loss: 0.3706 - accuracy: 0.8885 - val_loss: 0.3711 - val_accuracy: 0.8721\n",
      "Epoch 49/100\n",
      "1022/1022 [==============================] - 3s 3ms/step - loss: 0.4054 - accuracy: 0.8630 - val_loss: 0.3577 - val_accuracy: 0.8904\n",
      "Epoch 50/100\n",
      "1022/1022 [==============================] - 3s 3ms/step - loss: 0.3872 - accuracy: 0.8738 - val_loss: 0.3418 - val_accuracy: 0.8904\n",
      "Epoch 51/100\n",
      "1022/1022 [==============================] - 3s 3ms/step - loss: 0.3821 - accuracy: 0.8718 - val_loss: 0.3385 - val_accuracy: 0.8813\n",
      "Epoch 52/100\n",
      "1022/1022 [==============================] - 3s 3ms/step - loss: 0.3848 - accuracy: 0.8620 - val_loss: 0.3331 - val_accuracy: 0.9087\n",
      "Epoch 53/100\n",
      "1022/1022 [==============================] - 3s 3ms/step - loss: 0.3687 - accuracy: 0.8796 - val_loss: 0.4107 - val_accuracy: 0.8630\n",
      "Epoch 54/100\n",
      "1022/1022 [==============================] - 3s 3ms/step - loss: 0.3879 - accuracy: 0.8659 - val_loss: 0.3502 - val_accuracy: 0.8721\n",
      "Epoch 55/100\n",
      "1022/1022 [==============================] - 3s 3ms/step - loss: 0.3698 - accuracy: 0.8757 - val_loss: 0.3309 - val_accuracy: 0.8904\n",
      "Epoch 56/100\n",
      "1022/1022 [==============================] - 3s 3ms/step - loss: 0.3850 - accuracy: 0.8718 - val_loss: 0.3294 - val_accuracy: 0.9041\n"
     ]
    },
    {
     "name": "stdout",
     "output_type": "stream",
     "text": [
      "Epoch 57/100\n",
      "1022/1022 [==============================] - 3s 3ms/step - loss: 0.3673 - accuracy: 0.8718 - val_loss: 0.3277 - val_accuracy: 0.9041\n",
      "Epoch 58/100\n",
      "1022/1022 [==============================] - 3s 3ms/step - loss: 0.3566 - accuracy: 0.8826 - val_loss: 0.3187 - val_accuracy: 0.9041\n",
      "Epoch 59/100\n",
      "1022/1022 [==============================] - 3s 3ms/step - loss: 0.3712 - accuracy: 0.8885 - val_loss: 0.3391 - val_accuracy: 0.8995\n",
      "Epoch 60/100\n",
      "1022/1022 [==============================] - 3s 3ms/step - loss: 0.3810 - accuracy: 0.8767 - val_loss: 0.3359 - val_accuracy: 0.8904\n",
      "Epoch 61/100\n",
      "1022/1022 [==============================] - 3s 3ms/step - loss: 0.3696 - accuracy: 0.8836 - val_loss: 0.3226 - val_accuracy: 0.9041\n",
      "Epoch 62/100\n",
      "1022/1022 [==============================] - 3s 3ms/step - loss: 0.3699 - accuracy: 0.8777 - val_loss: 0.3285 - val_accuracy: 0.9041\n",
      "Epoch 63/100\n",
      "1022/1022 [==============================] - 3s 3ms/step - loss: 0.3734 - accuracy: 0.8806 - val_loss: 0.3290 - val_accuracy: 0.9041\n",
      "Epoch 64/100\n",
      "1022/1022 [==============================] - 3s 3ms/step - loss: 0.3565 - accuracy: 0.8845 - val_loss: 0.3580 - val_accuracy: 0.8676\n",
      "Epoch 65/100\n",
      "1022/1022 [==============================] - 3s 3ms/step - loss: 0.3665 - accuracy: 0.8787 - val_loss: 0.3265 - val_accuracy: 0.8995\n",
      "Epoch 66/100\n",
      "1022/1022 [==============================] - 3s 3ms/step - loss: 0.3667 - accuracy: 0.8748 - val_loss: 0.3219 - val_accuracy: 0.8995\n",
      "Epoch 67/100\n",
      "1022/1022 [==============================] - 3s 3ms/step - loss: 0.3839 - accuracy: 0.8777 - val_loss: 0.3515 - val_accuracy: 0.8676\n",
      "Epoch 68/100\n",
      "1022/1022 [==============================] - 3s 3ms/step - loss: 0.4003 - accuracy: 0.8650 - val_loss: 0.3698 - val_accuracy: 0.9041\n",
      "Epoch 69/100\n",
      "1022/1022 [==============================] - 3s 3ms/step - loss: 0.3580 - accuracy: 0.8796 - val_loss: 0.3209 - val_accuracy: 0.8995\n",
      "Epoch 70/100\n",
      "1022/1022 [==============================] - 3s 3ms/step - loss: 0.3661 - accuracy: 0.8816 - val_loss: 0.3302 - val_accuracy: 0.8950\n",
      "Epoch 71/100\n",
      "1022/1022 [==============================] - 3s 3ms/step - loss: 0.3597 - accuracy: 0.8836 - val_loss: 0.3247 - val_accuracy: 0.8995\n",
      "Epoch 72/100\n",
      "1022/1022 [==============================] - 3s 3ms/step - loss: 0.3620 - accuracy: 0.8767 - val_loss: 0.3241 - val_accuracy: 0.8950\n",
      "Epoch 73/100\n",
      "1022/1022 [==============================] - 3s 3ms/step - loss: 0.3671 - accuracy: 0.8777 - val_loss: 0.3556 - val_accuracy: 0.8721\n",
      "Epoch 74/100\n",
      "1022/1022 [==============================] - 3s 3ms/step - loss: 0.3696 - accuracy: 0.8767 - val_loss: 0.3235 - val_accuracy: 0.8995\n",
      "Epoch 75/100\n",
      "1022/1022 [==============================] - 3s 3ms/step - loss: 0.3755 - accuracy: 0.8679 - val_loss: 0.3238 - val_accuracy: 0.9041\n",
      "Epoch 76/100\n",
      "1022/1022 [==============================] - 3s 3ms/step - loss: 0.3617 - accuracy: 0.8836 - val_loss: 0.3601 - val_accuracy: 0.8995\n",
      "Epoch 77/100\n",
      "1022/1022 [==============================] - 4s 4ms/step - loss: 0.3677 - accuracy: 0.8865 - val_loss: 0.3338 - val_accuracy: 0.8858\n",
      "Epoch 78/100\n",
      "1022/1022 [==============================] - 4s 3ms/step - loss: 0.3742 - accuracy: 0.8748 - val_loss: 0.3360 - val_accuracy: 0.8904\n",
      "Epoch 79/100\n",
      "1022/1022 [==============================] - 3s 3ms/step - loss: 0.3737 - accuracy: 0.8699 - val_loss: 0.3427 - val_accuracy: 0.8950\n",
      "Epoch 80/100\n",
      "1022/1022 [==============================] - 3s 3ms/step - loss: 0.3594 - accuracy: 0.8894 - val_loss: 0.3212 - val_accuracy: 0.9041\n",
      "Epoch 81/100\n",
      "1022/1022 [==============================] - 3s 3ms/step - loss: 0.3529 - accuracy: 0.8894 - val_loss: 0.3163 - val_accuracy: 0.9087\n",
      "Epoch 82/100\n",
      "1022/1022 [==============================] - 3s 3ms/step - loss: 0.3670 - accuracy: 0.8885 - val_loss: 0.3313 - val_accuracy: 0.8995\n",
      "Epoch 83/100\n",
      "1022/1022 [==============================] - 3s 3ms/step - loss: 0.3785 - accuracy: 0.8767 - val_loss: 0.5027 - val_accuracy: 0.8219\n",
      "Epoch 84/100\n",
      "1022/1022 [==============================] - 3s 3ms/step - loss: 0.4343 - accuracy: 0.8562 - val_loss: 0.4324 - val_accuracy: 0.8539\n",
      "Epoch 85/100\n",
      "1022/1022 [==============================] - 4s 3ms/step - loss: 0.3959 - accuracy: 0.8796 - val_loss: 0.3304 - val_accuracy: 0.9087\n",
      "Epoch 86/100\n",
      "1022/1022 [==============================] - 4s 4ms/step - loss: 0.3699 - accuracy: 0.8826 - val_loss: 0.3297 - val_accuracy: 0.9041\n",
      "Epoch 87/100\n",
      "1022/1022 [==============================] - 3s 3ms/step - loss: 0.3854 - accuracy: 0.8689 - val_loss: 0.3369 - val_accuracy: 0.8904\n",
      "Epoch 88/100\n",
      "1022/1022 [==============================] - 3s 3ms/step - loss: 0.3566 - accuracy: 0.8836 - val_loss: 0.3180 - val_accuracy: 0.8995\n",
      "Epoch 89/100\n",
      "1022/1022 [==============================] - 3s 3ms/step - loss: 0.3624 - accuracy: 0.8806 - val_loss: 0.3358 - val_accuracy: 0.8813\n",
      "Epoch 90/100\n",
      "1022/1022 [==============================] - 3s 3ms/step - loss: 0.3613 - accuracy: 0.8777 - val_loss: 0.3176 - val_accuracy: 0.9087\n",
      "Epoch 91/100\n",
      "1022/1022 [==============================] - 3s 3ms/step - loss: 0.3443 - accuracy: 0.8933 - val_loss: 0.3325 - val_accuracy: 0.8858\n",
      "Epoch 92/100\n",
      "1022/1022 [==============================] - 3s 3ms/step - loss: 0.3619 - accuracy: 0.8845 - val_loss: 0.3172 - val_accuracy: 0.9041\n",
      "Epoch 93/100\n",
      "1022/1022 [==============================] - 3s 3ms/step - loss: 0.3724 - accuracy: 0.8826 - val_loss: 0.3208 - val_accuracy: 0.9087\n",
      "Epoch 94/100\n",
      "1022/1022 [==============================] - 3s 3ms/step - loss: 0.3755 - accuracy: 0.8816 - val_loss: 0.3388 - val_accuracy: 0.8767\n",
      "Epoch 95/100\n",
      "1022/1022 [==============================] - 3s 3ms/step - loss: 0.3601 - accuracy: 0.8816 - val_loss: 0.3416 - val_accuracy: 0.8721\n",
      "Epoch 96/100\n",
      "1022/1022 [==============================] - 3s 3ms/step - loss: 0.3733 - accuracy: 0.8728 - val_loss: 0.3190 - val_accuracy: 0.9087\n",
      "Epoch 97/100\n",
      "1022/1022 [==============================] - 3s 3ms/step - loss: 0.3515 - accuracy: 0.8855 - val_loss: 0.3167 - val_accuracy: 0.9041\n",
      "Epoch 98/100\n",
      "1022/1022 [==============================] - 3s 3ms/step - loss: 0.3775 - accuracy: 0.8669 - val_loss: 0.3308 - val_accuracy: 0.8995\n",
      "Epoch 99/100\n",
      "1022/1022 [==============================] - 3s 3ms/step - loss: 0.4108 - accuracy: 0.8571 - val_loss: 0.3366 - val_accuracy: 0.8995\n",
      "Epoch 100/100\n",
      "1022/1022 [==============================] - 4s 4ms/step - loss: 0.3521 - accuracy: 0.8777 - val_loss: 0.3200 - val_accuracy: 0.8995\n"
     ]
    }
   ],
   "source": [
    "model_3 = Sequential([Dense(1000,activation = 'relu',kernel_regularizer = regularizers.l2(0.01),input_shape = (10,)),Dropout(0.3),Dense(1000,activation = 'relu',kernel_regularizer = regularizers.l2(0.01)),Dropout(0.3),Dense(1000,activation = 'relu',kernel_regularizer = regularizers.l2(0.01)),Dropout(0.3),Dense(1000,activation = 'relu',kernel_regularizer = regularizers.l2(0.01)),Dropout(0.3), Dense(1,activation = 'sigmoid'),])\n",
    "model_3.compile(optimizer = 'adam',loss = 'binary_crossentropy',metrics = ['accuracy'])\n",
    "hist_3= model_3.fit(X_train,Y_train, batch_size = 32, epochs = 100, validation_data = (X_val,Y_val))"
   ]
  },
  {
   "cell_type": "code",
   "execution_count": 15,
   "metadata": {
    "colab": {
     "base_uri": "https://localhost:8080/",
     "height": 52
    },
    "id": "TPbjQWey_WUS",
    "outputId": "16f3c25d-88f7-40ae-d5f5-ce4b5ac1b385"
   },
   "outputs": [
    {
     "name": "stdout",
     "output_type": "stream",
     "text": [
      "219/219 [==============================] - 0s 455us/step\n"
     ]
    },
    {
     "data": {
      "text/plain": [
       "89.49771523475647"
      ]
     },
     "execution_count": 15,
     "metadata": {},
     "output_type": "execute_result"
    }
   ],
   "source": [
    "model_3.evaluate(X_test,Y_test)[1] * 100"
   ]
  },
  {
   "cell_type": "code",
   "execution_count": 16,
   "metadata": {
    "colab": {
     "base_uri": "https://localhost:8080/",
     "height": 295
    },
    "id": "bQ8Ht6m99IoH",
    "outputId": "9a18a849-8f22-482e-b561-be3f8a2acf72"
   },
   "outputs": [
    {
     "data": {
      "image/png": "[encoded data removed]",
      "text/plain": [
       "<Figure size 432x288 with 1 Axes>"
      ]
     },
     "metadata": {
      "needs_background": "light"
     },
     "output_type": "display_data"
    }
   ],
   "source": [
    "plt.plot(hist_3.history['loss'])\n",
    "plt.plot(hist_3.history['val_loss'])\n",
    "plt.title('Model loss')\n",
    "plt.ylabel('Loss')\n",
    "plt.xlabel('Epochs')\n",
    "plt.legend(['Train','Val'], loc = 'upper right')\n",
    "plt.show()"
   ]
  },
  {
   "cell_type": "code",
   "execution_count": 17,
   "metadata": {
    "colab": {
     "base_uri": "https://localhost:8080/",
     "height": 295
    },
    "id": "aZfe8BeY9JyE",
    "outputId": "f578837f-6dfd-4e18-fd4d-48649f392c5d"
   },
   "outputs": [
    {
     "data": {
      "image/png": "[encoded data removed]",
      "text/plain": [
       "<Figure size 432x288 with 1 Axes>"
      ]
     },
     "metadata": {
      "needs_background": "light"
     },
     "output_type": "display_data"
    }
   ],
   "source": [
    "plt.plot(hist_3.history['accuracy'])\n",
    "plt.plot(hist_3.history['val_accuracy'])\n",
    "plt.title('Model accuracy')\n",
    "plt.ylabel('Accuracy')\n",
    "plt.xlabel('Epochs')\n",
    "plt.legend(['Train','Val'], loc = 'lower right')\n",
    "plt.show()"
   ]
  }
 ],
 "metadata": {
  "accelerator": "GPU",
  "colab": {
   "collapsed_sections": [],
   "name": "8.ipynb",
   "provenance": []
  },
  "kernelspec": {
   "display_name": "Python 3",
   "language": "python",
   "name": "python3"
  },
  "language_info": {
   "codemirror_mode": {
    "name": "ipython",
    "version": 3
   },
   "file_extension": ".py",
   "mimetype": "text/x-python",
   "name": "python",
   "nbconvert_exporter": "python",
   "pygments_lexer": "ipython3",
   "version": "3.7.3"
  }
 },
 "nbformat": 4,
 "nbformat_minor": 1
}
